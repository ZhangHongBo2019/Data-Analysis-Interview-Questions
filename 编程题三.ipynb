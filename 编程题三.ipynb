{
 "cells": [
  {
   "cell_type": "markdown",
   "metadata": {},
   "source": [
    "## 面试题三：\n",
    "### 链接：\n",
    "###  https://www.nowcoder.com/questionTerminal/1b1f87ef6e7d40529d82c96aef79e8a4?toCommentId=2487421\n",
    "### 来源：牛客网\n",
    "#### 猿辅导公司的 N位（N>=4）研发同学组织了一次秋游活动，某同学带了个无人机在高空拍照，活动结束时，先拍了一张所有同学排成公司猴头Logo的照片， 接着有人提议再排成“猿”的首字母Y字形来拍一张合照。\n",
    "#### 用字符串中的每一个字符（不是换行符或结束符'\\0'）代表一位老师，输出排好后的队形。要求 Y字除去中#### 心点外，上下半部分等高，按照从左到右，从上到下进行排序。队形中没人的部分用空格占位。\n",
    "#### 输入数据保证可以排出一个完整的Y字，即长度为 3k+1 （k>=1）\n",
    "#### 例如: 7个 x ，排成队形为（为了方便说明，这里用‘-’代替空格）：\n",
    "#### x---x\n",
    "#### -x-x\n",
    "#### --x\n",
    "#### --x\n",
    "#### --x"
   ]
  },
  {
   "cell_type": "code",
   "execution_count": 1,
   "metadata": {},
   "outputs": [],
   "source": [
    "#import sys\n",
    "def y_print():\n",
    "    \"\"\"\n",
    "    输入字符串长度为3k+1(k>=1),把字符串打印成Y的样子，要求去除中心点，上下两部分等高\n",
    "    先计算k，根据k值可以计算得到第一层两个字符的中间间隔\n",
    "    初始化第一层第一个字符旁边的空格数side_gap=0,mid_gap=2(k-1)+1\n",
    "    接着往下打印side_gap++,mid_gap-=2,直到打印完上面的V\n",
    "    之后只用打印下面的一竖，先打印side_gap这么长的空格，在打印字符\n",
    "    \"\"\"\n",
    "    #s_len = sys.stdin.readline().strip()\n",
    "    s =input(\"Please Enter the str:\")\n",
    "    s_len = len(s)\n",
    "    k = (s_len-1)//3\n",
    "    side_gap = 0\n",
    "    mid_gap = 2*(k-1)+1\n",
    "    s_pos = 0\n",
    "    for i in range(k):\n",
    "        for side in range(side_gap):\n",
    "            print(' ',end= '')\n",
    "        print(s[s_pos],end='')\n",
    "        s_pos+=1\n",
    "        for mid in range(mid_gap):\n",
    "            print(' ',end='')\n",
    "        print(s[s_pos])\n",
    "        s_pos+=1\n",
    "        side_gap+=1\n",
    "        mid_gap-=2\n",
    "            \n",
    "    for j in range(s_len-2*k):\n",
    "        for side in range(side_gap):\n",
    "            print(' ',end='')\n",
    "        print(s[s_pos])\n",
    "        s_pos+=1"
   ]
  },
  {
   "cell_type": "code",
   "execution_count": 2,
   "metadata": {},
   "outputs": [
    {
     "name": "stdout",
     "output_type": "stream",
     "text": [
      "Please Enter the str:asderty\n",
      "a   s\n",
      " d e\n",
      "  r\n",
      "  t\n",
      "  y\n",
      "None\n"
     ]
    }
   ],
   "source": [
    "print(y_print())"
   ]
  },
  {
   "cell_type": "code",
   "execution_count": 3,
   "metadata": {},
   "outputs": [],
   "source": [
    "def Y_print():\n",
    "    s=input(\"Please Enter the str: \")\n",
    "    s_len = len(s)\n",
    "    k = (s_len-1)//3\n",
    "    s_pos = 0\n",
    "    side_gap = 0\n",
    "    mid_gap = 2*k-1\n",
    "    # Y 的上半部分\n",
    "    for i in range(k):\n",
    "        print(' '*side_gap,end='')\n",
    "        print(s[s_pos],end='')\n",
    "        s_pos+=1\n",
    "        print(' '*mid_gap,end='')\n",
    "        print(s[s_pos])\n",
    "        s_pos+=1\n",
    "        side_gap+=1\n",
    "        mid_gap-=2\n",
    "\n",
    "    # Y 的下半部分\n",
    "    for q in range(k+1):\n",
    "        print(' '*side_gap,end='')\n",
    "        print(s[s_pos])\n",
    "        s_pos+=1"
   ]
  },
  {
   "cell_type": "code",
   "execution_count": 4,
   "metadata": {},
   "outputs": [
    {
     "name": "stdout",
     "output_type": "stream",
     "text": [
      "Please Enter the str: ghutrdf\n",
      "g   h\n",
      " u t\n",
      "  r\n",
      "  d\n",
      "  f\n"
     ]
    }
   ],
   "source": [
    "Y_print()"
   ]
  },
  {
   "cell_type": "markdown",
   "metadata": {},
   "source": [
    "## 同类型"
   ]
  },
  {
   "cell_type": "code",
   "execution_count": null,
   "metadata": {},
   "outputs": [],
   "source": [
    "def X_print():\n",
    "    k = int(input('Please Enter a number: '))\n",
    "    n = 4*k + 1\n",
    "    pos = 0\n",
    "    side_gap = 0\n",
    "    mid_gap = 2*k - 1\n",
    "    #--上半部分--\n",
    "    for i in range(k):\n",
    "        print(' '*side_gap,end='')\n",
    "        print('x',end='')\n",
    "        print(' '*mid_gap,end='')\n",
    "        print('x')\n",
    "        side_gap+=1\n",
    "        mid_gap-=2\n",
    "    #--中间部分--\n",
    "    print(' '*side_gap,end='')\n",
    "    print('x')\n",
    "    side_gap-=1\n",
    "    mid_gap+=2\n",
    "    #--下半部分--\n",
    "    for j in range(k):\n",
    "        print(' '*side_gap,end='')\n",
    "        print('x',end='')\n",
    "        print(' '*mid_gap,end='')\n",
    "        print('x')\n",
    "        side_gap-=1\n",
    "        mid_gap+=2\n",
    "        \n",
    "print(X_print())"
   ]
  }
 ],
 "metadata": {
  "kernelspec": {
   "display_name": "Python 3",
   "language": "python",
   "name": "python3"
  },
  "language_info": {
   "codemirror_mode": {
    "name": "ipython",
    "version": 3
   },
   "file_extension": ".py",
   "mimetype": "text/x-python",
   "name": "python",
   "nbconvert_exporter": "python",
   "pygments_lexer": "ipython3",
   "version": "3.7.3"
  }
 },
 "nbformat": 4,
 "nbformat_minor": 2
}
