{
 "cells": [
  {
   "cell_type": "markdown",
   "metadata": {},
   "source": [
    "## 面试题四：\n",
    "### 杨辉三角\n",
    "    [1]\n",
    "\n",
    "    [1, 1]\n",
    "\n",
    "    [1, 2, 1]\n",
    "\n",
    "    [1, 3, 3, 1]\n",
    "\n",
    "    [1, 4, 6, 4, 1]\n",
    "\n",
    "    [1, 5, 10, 10, 5, 1]\n",
    "\n",
    "    [1, 6, 15, 20, 15, 6, 1]\n",
    "\n",
    "    [1, 7, 21, 35, 35, 21, 7, 1]\n",
    "\n",
    "    [1, 8, 28, 56, 70, 56, 28, 8, 1]\n",
    "\n",
    "    [1, 9, 36, 84, 126, 126, 84, 36, 9, 1]"
   ]
  },
  {
   "cell_type": "code",
   "execution_count": 1,
   "metadata": {},
   "outputs": [
    {
     "name": "stdout",
     "output_type": "stream",
     "text": [
      "Please Enter a number: 6\n",
      "[1]\n",
      "[1, 1]\n",
      "[1, 2, 1]\n",
      "[1, 3, 3, 1]\n",
      "[1, 4, 6, 4, 1]\n",
      "[1, 5, 10, 10, 5, 1]\n"
     ]
    }
   ],
   "source": [
    "def triangle():\n",
    "    p = [1]\n",
    "    while True:\n",
    "        yield p\n",
    "        p = [1] + [p[i]+p[i+1] for i in range(len(p)-1)] + [1]\n",
    "\n",
    "tt = int(input(\"Please Enter a number: \"))       \n",
    "n = 0\n",
    "for t in triangle():\n",
    "    print(t)\n",
    "    n+=1\n",
    "    if n==tt:\n",
    "        break"
   ]
  },
  {
   "cell_type": "code",
   "execution_count": null,
   "metadata": {},
   "outputs": [],
   "source": []
  }
 ],
 "metadata": {
  "kernelspec": {
   "display_name": "Python 3",
   "language": "python",
   "name": "python3"
  },
  "language_info": {
   "codemirror_mode": {
    "name": "ipython",
    "version": 3
   },
   "file_extension": ".py",
   "mimetype": "text/x-python",
   "name": "python",
   "nbconvert_exporter": "python",
   "pygments_lexer": "ipython3",
   "version": "3.7.3"
  }
 },
 "nbformat": 4,
 "nbformat_minor": 2
}
