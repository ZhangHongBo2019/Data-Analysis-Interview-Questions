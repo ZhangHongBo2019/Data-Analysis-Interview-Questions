{
 "cells": [
  {
   "cell_type": "markdown",
   "metadata": {},
   "source": [
    "## 面试题 二：\n",
    "\n",
    "#### 大巴车（数组分块，按块翻转，块内不变\n",
    "\n",
    "#### 某天猿辅导 HR 组织大家去漂流，早上，参加团建的同学都到齐了，并且按到达公司的先\n",
    "\n",
    "#### 后顺序排好队了。\n",
    "\n",
    "#### 由于员工太多，一个大巴车坐不下，需要分多个车，车是足够的，但所有人需要按一定顺\n",
    "\n",
    "#### 序上车，按如下规则安排上车的顺序：\n",
    "\n",
    "#### 假设大巴车容量为 m，从队首开始，每 m 个人分成一个小组，每个小组坐一辆车。\n",
    "\n",
    "#### 同时只有一个车打开车门供员工上车。小组之间按从队尾到队首顺序依次上车，同一小组\n",
    "\n",
    "#### 内先到的同学先上，求所有人上车的顺序。"
   ]
  },
  {
   "cell_type": "code",
   "execution_count": 1,
   "metadata": {},
   "outputs": [
    {
     "name": "stdout",
     "output_type": "stream",
     "text": [
      "{1: [1, 2, 3], 2: [4, 5, 6], 3: [7, 8]}\n"
     ]
    }
   ],
   "source": [
    "N = 8\n",
    "m = 3\n",
    "queue = {}\n",
    "k=1\n",
    "for i in range(1,N+1,m):\n",
    "    if i+m <= N:\n",
    "        queue[k] = list(range(i,i+m,1))\n",
    "    else:\n",
    "        queue[k] = list(range(i,N+1,1))\n",
    "    k+=1\n",
    "print(queue)"
   ]
  },
  {
   "cell_type": "code",
   "execution_count": 2,
   "metadata": {},
   "outputs": [
    {
     "data": {
      "text/plain": [
       "[7, 8, 4, 5, 6, 1, 2, 3]"
      ]
     },
     "execution_count": 2,
     "metadata": {},
     "output_type": "execute_result"
    }
   ],
   "source": [
    "sort_list=sorted(queue.keys())\n",
    "sort_list.reverse()\n",
    "list_queue = []\n",
    "for j in sort_list:\n",
    "    list_queue.append(queue[j])\n",
    "list_queue = [x for i in list_queue for x in i ]\n",
    "list_queue"
   ]
  }
 ],
 "metadata": {
  "kernelspec": {
   "display_name": "Python 3",
   "language": "python",
   "name": "python3"
  },
  "language_info": {
   "codemirror_mode": {
    "name": "ipython",
    "version": 3
   },
   "file_extension": ".py",
   "mimetype": "text/x-python",
   "name": "python",
   "nbconvert_exporter": "python",
   "pygments_lexer": "ipython3",
   "version": "3.7.3"
  }
 },
 "nbformat": 4,
 "nbformat_minor": 2
}
